{
 "cells": [
  {
   "cell_type": "code",
   "execution_count": 1,
   "id": "c48c8508",
   "metadata": {},
   "outputs": [],
   "source": [
    "import PIL.Image\n",
    "import numpy as np"
   ]
  },
  {
   "cell_type": "code",
   "execution_count": 27,
   "id": "af1b83e1",
   "metadata": {},
   "outputs": [],
   "source": [
    "# infile = 'original/yeah.jpeg'\n",
    "# outfile = 'yeah.png'"
   ]
  },
  {
   "cell_type": "code",
   "execution_count": 28,
   "id": "8f7bb926",
   "metadata": {},
   "outputs": [],
   "source": [
    "d = PIL.Image.open(infile)\n",
    "w, h = d.size\n",
    "targetsize = min(w, h)\n",
    "if h>=w: \n",
    "    hn = int(targetsize/w*h)\n",
    "    wn = targetsize\n",
    "else:\n",
    "    hn = targetsize\n",
    "    wn = int(targetsize/h*w)    \n",
    "dn = d.resize([wn, hn], PIL.Image.BICUBIC).save(outfile)"
   ]
  },
  {
   "cell_type": "code",
   "execution_count": 16,
   "id": "03ec9f89",
   "metadata": {},
   "outputs": [
    {
     "data": {
      "text/plain": [
       "(341, 512)"
      ]
     },
     "execution_count": 16,
     "metadata": {},
     "output_type": "execute_result"
    }
   ],
   "source": [
    "d.size"
   ]
  },
  {
   "cell_type": "code",
   "execution_count": null,
   "id": "5d35e3b7",
   "metadata": {},
   "outputs": [],
   "source": []
  }
 ],
 "metadata": {
  "kernelspec": {
   "display_name": "Python 3",
   "language": "python",
   "name": "python3"
  },
  "language_info": {
   "codemirror_mode": {
    "name": "ipython",
    "version": 3
   },
   "file_extension": ".py",
   "mimetype": "text/x-python",
   "name": "python",
   "nbconvert_exporter": "python",
   "pygments_lexer": "ipython3",
   "version": "3.7.3"
  }
 },
 "nbformat": 4,
 "nbformat_minor": 5
}
